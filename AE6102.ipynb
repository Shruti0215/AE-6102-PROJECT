{
 "cells": [
  {
   "cell_type": "markdown",
   "metadata": {},
   "source": [
    "Backtracking Method"
   ]
  },
  {
   "cell_type": "code",
   "execution_count": 31,
   "metadata": {},
   "outputs": [],
   "source": [
    "def solve_sudoku_b(board):\n",
    "    # find an empty cell\n",
    "    for i in range(9):\n",
    "        for j in range(9):\n",
    "            if board[i][j] == 0:\n",
    "                # try out numbers 1 to 9\n",
    "                for num in range(1, 10):\n",
    "                    # check if number is valid\n",
    "                    if is_valid(board, i, j, num):\n",
    "                        # place number in cell\n",
    "                        board[i][j] = num\n",
    "                        # move to next cell\n",
    "                        if solve_sudoku_b(board):\n",
    "                            return True\n",
    "                        # backtrack if solution is invalid\n",
    "                        board[i][j] = 0\n",
    "                # if all numbers are tried and none are valid, backtrack\n",
    "                return False\n",
    "    # if there are no empty cells left, the puzzle is solved\n",
    "    return True\n",
    "\n",
    "def is_valid(board, row, col, num):\n",
    "    # check row\n",
    "    for j in range(9):\n",
    "        if board[row][j] == num:\n",
    "            return False\n",
    "    # check column\n",
    "    for i in range(9):\n",
    "        if board[i][col] == num:\n",
    "            return False\n",
    "    # check 3x3 sub-grid\n",
    "    sub_row = (row // 3) * 3\n",
    "    sub_col = (col // 3) * 3\n",
    "    for i in range(sub_row, sub_row + 3):\n",
    "        for j in range(sub_col, sub_col + 3):\n",
    "            if board[i][j] == num:\n",
    "                return False\n",
    "    return True"
   ]
  },
  {
   "cell_type": "markdown",
   "metadata": {},
   "source": [
    "Paper and Pen method"
   ]
  },
  {
   "cell_type": "code",
   "execution_count": 32,
   "metadata": {},
   "outputs": [],
   "source": [
    "def solve_sudoku(board):\n",
    "    solved = False\n",
    "    while not solved:\n",
    "        solved = True\n",
    "        # iterate through each cell in the board\n",
    "        for i in range(9):\n",
    "            for j in range(9):\n",
    "                if board[i][j] == 0:\n",
    "                    # find possible values for the cell\n",
    "                    possible_values = find_possible_values(board, i, j)\n",
    "                    if len(possible_values) == 1:\n",
    "                        # if there is only one possible value, fill it in\n",
    "                        board[i][j] = possible_values[0]\n",
    "                        solved = False\n",
    "    return board\n",
    "\n",
    "def find_possible_values(board, row, col):\n",
    "    possible_values = []\n",
    "    # check row\n",
    "    for j in range(9):\n",
    "        if board[row][j] != 0:\n",
    "            possible_values.append(board[row][j])\n",
    "    # check column\n",
    "    for i in range(9):\n",
    "        if board[i][col] != 0:\n",
    "            possible_values.append(board[i][col])\n",
    "    # check 3x3 sub-grid\n",
    "    sub_row = (row // 3) * 3\n",
    "    sub_col = (col // 3) * 3\n",
    "    for i in range(sub_row, sub_row + 3):\n",
    "        for j in range(sub_col, sub_col + 3):\n",
    "            if board[i][j] != 0:\n",
    "                possible_values.append(board[i][j])\n",
    "    # find values that are not in the row, column or sub-grid\n",
    "    possible_values = set(range(1, 10)) - set(possible_values)\n",
    "    return list(possible_values)"
   ]
  },
  {
   "cell_type": "code",
   "execution_count": 10,
   "metadata": {},
   "outputs": [],
   "source": [
    "from time import perf_counter"
   ]
  },
  {
   "cell_type": "markdown",
   "metadata": {},
   "source": [
    "Generate random Sudoku"
   ]
  },
  {
   "cell_type": "code",
   "execution_count": 21,
   "metadata": {},
   "outputs": [],
   "source": [
    "import random\n",
    "\n",
    "def generate_sudoku():\n",
    "    board = [[0 for _ in range(9)] for _ in range(9)]\n",
    "    rows = [set(range(1, 10)) for _ in range(9)]\n",
    "    cols = [set(range(1, 10)) for _ in range(9)]\n",
    "    boxes = [set(range(1, 10)) for _ in range(9)]\n",
    "    \n",
    "    def box_index(row, col):\n",
    "        return (row // 3) * 3 + col // 3\n",
    "    \n",
    "    def backtrack(curr):\n",
    "        if curr == 81:\n",
    "            return True\n",
    "        \n",
    "        row, col = curr // 9, curr % 9\n",
    "        \n",
    "        if board[row][col] != 0:\n",
    "            return backtrack(curr + 1)\n",
    "        \n",
    "        box = box_index(row, col)\n",
    "        choices = list(rows[row] & cols[col] & boxes[box])\n",
    "        if not choices:\n",
    "            return False\n",
    "        \n",
    "        random.shuffle(choices)\n",
    "        for choice in choices:\n",
    "            rows[row].remove(choice)\n",
    "            cols[col].remove(choice)\n",
    "            boxes[box].remove(choice)\n",
    "            board[row][col] = choice\n",
    "            \n",
    "            if backtrack(curr + 1):\n",
    "                return True\n",
    "            \n",
    "            rows[row].add(choice)\n",
    "            cols[col].add(choice)\n",
    "            boxes[box].add(choice)\n",
    "            board[row][col] = 0\n",
    "            \n",
    "        return False\n",
    "    \n",
    "    backtrack(0)\n",
    "    \n",
    "    # Remove some numbers to create a puzzle\n",
    "    num_cells = random.randint(20, 30)\n",
    "    for _ in range(num_cells):\n",
    "        row, col = random.randint(0, 8), random.randint(0, 8)\n",
    "        while board[row][col] == 0:\n",
    "            row, col = random.randint(0, 8), random.randint(0, 8)\n",
    "        board[row][col] = 0\n",
    "    return board"
   ]
  },
  {
   "cell_type": "code",
   "execution_count": 37,
   "metadata": {},
   "outputs": [
    {
     "name": "stdout",
     "output_type": "stream",
     "text": [
      "time taken for paper and pen method 0.0003481249996184488\n"
     ]
    }
   ],
   "source": [
    "board = generate_sudoku()\n",
    "start = perf_counter()\n",
    "solve_sudoku(board)\n",
    "print('time taken for paper and pen method', perf_counter()-start)\n"
   ]
  },
  {
   "cell_type": "code",
   "execution_count": 36,
   "metadata": {},
   "outputs": [
    {
     "name": "stdout",
     "output_type": "stream",
     "text": [
      "time taken for backtracking 6.270900030358462e-05\n"
     ]
    }
   ],
   "source": [
    "start = perf_counter()\n",
    "solve_sudoku_b(board)\n",
    "print('time taken for backtracking', perf_counter()-start)"
   ]
  }
 ],
 "metadata": {
  "interpreter": {
   "hash": "c6e4e9f98eb68ad3b7c296f83d20e6de614cb42e90992a65aa266555a3137d0d"
  },
  "kernelspec": {
   "display_name": "Python 3.9.16 ('base')",
   "language": "python",
   "name": "python3"
  },
  "language_info": {
   "codemirror_mode": {
    "name": "ipython",
    "version": 3
   },
   "file_extension": ".py",
   "mimetype": "text/x-python",
   "name": "python",
   "nbconvert_exporter": "python",
   "pygments_lexer": "ipython3",
   "version": "3.9.16"
  },
  "orig_nbformat": 4
 },
 "nbformat": 4,
 "nbformat_minor": 2
}
